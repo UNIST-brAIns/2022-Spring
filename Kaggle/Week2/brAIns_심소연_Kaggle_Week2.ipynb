{
 "cells": [
  {
   "cell_type": "markdown",
   "id": "opposite-affiliation",
   "metadata": {},
   "source": [
    "# 전처리 / 모델 적용 튜토리얼"
   ]
  },
  {
   "cell_type": "markdown",
   "id": "reserved-pickup",
   "metadata": {},
   "source": [
    "작성자: 심소연"
   ]
  },
  {
   "cell_type": "markdown",
   "id": "historical-airport",
   "metadata": {},
   "source": [
    "작성일: 2022-03-30"
   ]
  },
  {
   "cell_type": "code",
   "execution_count": 1,
   "id": "dense-pierre",
   "metadata": {},
   "outputs": [],
   "source": [
    "import numpy as np\n",
    "import pandas as pd\n",
    "from pandas import Series\n",
    "import matplotlib.pyplot as plt\n",
    "import seaborn as sns"
   ]
  },
  {
   "cell_type": "code",
   "execution_count": 2,
   "id": "accessible-killer",
   "metadata": {},
   "outputs": [],
   "source": [
    "plt.style.use('seaborn')\n",
    "sns.set(font_scale=1.25)\n",
    "%matplotlib inline\n",
    "\n",
    "import warnings\n",
    "warnings.filterwarnings('ignore')"
   ]
  },
  {
   "cell_type": "code",
   "execution_count": 3,
   "id": "charged-techno",
   "metadata": {},
   "outputs": [],
   "source": [
    "df_train = pd.read_csv('train.csv')\n",
    "df_test = pd.read_csv('test.csv')"
   ]
  },
  {
   "cell_type": "markdown",
   "id": "identified-logistics",
   "metadata": {},
   "source": [
    "# 3. Feature engineering"
   ]
  },
  {
   "cell_type": "markdown",
   "id": "oriented-soccer",
   "metadata": {},
   "source": [
    "## 3.1 Fill NULL - Embarked, Age"
   ]
  },
  {
   "cell_type": "code",
   "execution_count": 4,
   "id": "taken-chorus",
   "metadata": {},
   "outputs": [
    {
     "data": {
      "text/html": [
       "<div>\n",
       "<style scoped>\n",
       "    .dataframe tbody tr th:only-of-type {\n",
       "        vertical-align: middle;\n",
       "    }\n",
       "\n",
       "    .dataframe tbody tr th {\n",
       "        vertical-align: top;\n",
       "    }\n",
       "\n",
       "    .dataframe thead th {\n",
       "        text-align: right;\n",
       "    }\n",
       "</style>\n",
       "<table border=\"1\" class=\"dataframe\">\n",
       "  <thead>\n",
       "    <tr style=\"text-align: right;\">\n",
       "      <th></th>\n",
       "      <th>PassengerId</th>\n",
       "      <th>Survived</th>\n",
       "      <th>Pclass</th>\n",
       "      <th>Name</th>\n",
       "      <th>Sex</th>\n",
       "      <th>Age</th>\n",
       "      <th>SibSp</th>\n",
       "      <th>Parch</th>\n",
       "      <th>Ticket</th>\n",
       "      <th>Fare</th>\n",
       "      <th>Cabin</th>\n",
       "      <th>Embarked</th>\n",
       "    </tr>\n",
       "  </thead>\n",
       "  <tbody>\n",
       "    <tr>\n",
       "      <th>% of NULL</th>\n",
       "      <td>0.0</td>\n",
       "      <td>0.0</td>\n",
       "      <td>0.0</td>\n",
       "      <td>0.0</td>\n",
       "      <td>0.0</td>\n",
       "      <td>19.86532</td>\n",
       "      <td>0.0</td>\n",
       "      <td>0.0</td>\n",
       "      <td>0.0</td>\n",
       "      <td>0.0</td>\n",
       "      <td>77.104377</td>\n",
       "      <td>0.224467</td>\n",
       "    </tr>\n",
       "  </tbody>\n",
       "</table>\n",
       "</div>"
      ],
      "text/plain": [
       "           PassengerId  Survived  Pclass  Name  Sex       Age  SibSp  Parch  \\\n",
       "% of NULL          0.0       0.0     0.0   0.0  0.0  19.86532    0.0    0.0   \n",
       "\n",
       "           Ticket  Fare      Cabin  Embarked  \n",
       "% of NULL     0.0   0.0  77.104377  0.224467  "
      ]
     },
     "execution_count": 4,
     "metadata": {},
     "output_type": "execute_result"
    }
   ],
   "source": [
    "(df_train.isnull().sum() / df_train.shape[0] * 100).to_frame('% of NULL').transpose()"
   ]
  },
  {
   "cell_type": "code",
   "execution_count": 5,
   "id": "subjective-background",
   "metadata": {
    "scrolled": true
   },
   "outputs": [
    {
     "data": {
      "text/html": [
       "<div>\n",
       "<style scoped>\n",
       "    .dataframe tbody tr th:only-of-type {\n",
       "        vertical-align: middle;\n",
       "    }\n",
       "\n",
       "    .dataframe tbody tr th {\n",
       "        vertical-align: top;\n",
       "    }\n",
       "\n",
       "    .dataframe thead th {\n",
       "        text-align: right;\n",
       "    }\n",
       "</style>\n",
       "<table border=\"1\" class=\"dataframe\">\n",
       "  <thead>\n",
       "    <tr style=\"text-align: right;\">\n",
       "      <th></th>\n",
       "      <th>PassengerId</th>\n",
       "      <th>Pclass</th>\n",
       "      <th>Name</th>\n",
       "      <th>Sex</th>\n",
       "      <th>Age</th>\n",
       "      <th>SibSp</th>\n",
       "      <th>Parch</th>\n",
       "      <th>Ticket</th>\n",
       "      <th>Fare</th>\n",
       "      <th>Cabin</th>\n",
       "      <th>Embarked</th>\n",
       "    </tr>\n",
       "  </thead>\n",
       "  <tbody>\n",
       "    <tr>\n",
       "      <th>% of NULL</th>\n",
       "      <td>0.0</td>\n",
       "      <td>0.0</td>\n",
       "      <td>0.0</td>\n",
       "      <td>0.0</td>\n",
       "      <td>20.574163</td>\n",
       "      <td>0.0</td>\n",
       "      <td>0.0</td>\n",
       "      <td>0.0</td>\n",
       "      <td>0.239234</td>\n",
       "      <td>78.229665</td>\n",
       "      <td>0.0</td>\n",
       "    </tr>\n",
       "  </tbody>\n",
       "</table>\n",
       "</div>"
      ],
      "text/plain": [
       "           PassengerId  Pclass  Name  Sex        Age  SibSp  Parch  Ticket  \\\n",
       "% of NULL          0.0     0.0   0.0  0.0  20.574163    0.0    0.0     0.0   \n",
       "\n",
       "               Fare      Cabin  Embarked  \n",
       "% of NULL  0.239234  78.229665       0.0  "
      ]
     },
     "execution_count": 5,
     "metadata": {},
     "output_type": "execute_result"
    }
   ],
   "source": [
    "(df_test.isnull().sum() / df_test.shape[0] * 100).to_frame('% of NULL').transpose()"
   ]
  },
  {
   "cell_type": "code",
   "execution_count": 6,
   "id": "finished-toner",
   "metadata": {},
   "outputs": [],
   "source": [
    "# Fare\n",
    "\n",
    "# loc\n",
    "# https://m.blog.naver.com/wideeyed/221964700554\n",
    "# ,로 행과 열을 구분한다\n",
    "\n",
    "df_test.loc[df_test['Fare'].isnull(), 'Fare'] = df_test['Fare'].mean()"
   ]
  },
  {
   "cell_type": "code",
   "execution_count": 7,
   "id": "vital-surprise",
   "metadata": {},
   "outputs": [
    {
     "data": {
      "text/plain": [
       "S    644\n",
       "C    168\n",
       "Q     77\n",
       "Name: Embarked, dtype: int64"
      ]
     },
     "execution_count": 7,
     "metadata": {},
     "output_type": "execute_result"
    }
   ],
   "source": [
    "# Embarked\n",
    "\n",
    "df_train['Embarked'].value_counts()"
   ]
  },
  {
   "cell_type": "code",
   "execution_count": 8,
   "id": "hungarian-notebook",
   "metadata": {},
   "outputs": [],
   "source": [
    "df_train['Embarked'].fillna('S', inplace = True)"
   ]
  },
  {
   "cell_type": "code",
   "execution_count": 9,
   "id": "ancient-degree",
   "metadata": {},
   "outputs": [],
   "source": [
    "# Age\n",
    "\n",
    "# (1) dtype 을 string 으로 변경하여\n",
    "# (2) 정규표현식을 이용하여 이름 (문자열) 으로부터 Title 을 추출하고자 한다.\n",
    "\n",
    "# 사용된 정규 표현식 기호\n",
    "# - 범위\n",
    "# [] 문자 선택\n",
    "# + 한 번 이상 반복됨\n",
    "\n",
    "df_train['Title'] = df_train.Name.str.extract('([A-Za-z]+)\\.')\n",
    "df_test['Title'] = df_test.Name.str.extract('([A-Za-z]+)\\.')"
   ]
  },
  {
   "cell_type": "code",
   "execution_count": 10,
   "id": "adjustable-quality",
   "metadata": {},
   "outputs": [],
   "source": [
    "original_title = [\n",
    "    'Mlle', 'Mme', 'Ms', 'Dr', 'Major', 'Lady', 'Countess', 'Jonkheer', 'Col',\n",
    "    'Rev', 'Capt', 'Sir', 'Don', 'Dona'\n",
    "]"
   ]
  },
  {
   "cell_type": "code",
   "execution_count": 11,
   "id": "adjacent-warren",
   "metadata": {},
   "outputs": [],
   "source": [
    "group_title = [\n",
    "    'Miss', 'Miss', 'Miss', 'Mr', 'Mr', 'Mrs', 'Mrs', 'Other', 'Other',\n",
    "    'Other', 'Mr', 'Mr', 'Mr', 'Mr'\n",
    "]"
   ]
  },
  {
   "cell_type": "code",
   "execution_count": 12,
   "id": "alike-optimization",
   "metadata": {},
   "outputs": [],
   "source": [
    "# (1) 탑승객을 성별보다 다양한 분류로 나누어서 \n",
    "# (2) 분류된 집합에서의 나이의 평균값을 이용하여 \n",
    "# (3) 채워지지 않은 나이에 대한 값을 채우고자 한다.\n",
    "\n",
    "df_train['Title'].replace(original_title, group_title, inplace=True)\n",
    "df_test['Title'].replace(original_title, group_title, inplace=True)"
   ]
  },
  {
   "cell_type": "code",
   "execution_count": 13,
   "id": "emotional-gazette",
   "metadata": {},
   "outputs": [
    {
     "data": {
      "text/plain": [
       "<AxesSubplot:xlabel='Title'>"
      ]
     },
     "execution_count": 13,
     "metadata": {},
     "output_type": "execute_result"
    },
    {
     "data": {
      "image/png": "[encoded data removed]",
      "text/plain": [
       "<Figure size 432x288 with 1 Axes>"
      ]
     },
     "metadata": {
      "needs_background": "light"
     },
     "output_type": "display_data"
    }
   ],
   "source": [
    "# 유의미한 생존율 차이가 보임을 확인할 수 있다.\n",
    "\n",
    "df_train[['Title', 'Survived']].groupby('Title').mean().plot.bar()"
   ]
  },
  {
   "cell_type": "code",
   "execution_count": 14,
   "id": "driving-cursor",
   "metadata": {
    "scrolled": false
   },
   "outputs": [
    {
     "data": {
      "text/html": [
       "<div>\n",
       "<style scoped>\n",
       "    .dataframe tbody tr th:only-of-type {\n",
       "        vertical-align: middle;\n",
       "    }\n",
       "\n",
       "    .dataframe tbody tr th {\n",
       "        vertical-align: top;\n",
       "    }\n",
       "\n",
       "    .dataframe thead th {\n",
       "        text-align: right;\n",
       "    }\n",
       "</style>\n",
       "<table border=\"1\" class=\"dataframe\">\n",
       "  <thead>\n",
       "    <tr style=\"text-align: right;\">\n",
       "      <th></th>\n",
       "      <th>PassengerId</th>\n",
       "      <th>Survived</th>\n",
       "      <th>Pclass</th>\n",
       "      <th>Age</th>\n",
       "      <th>SibSp</th>\n",
       "      <th>Parch</th>\n",
       "      <th>Fare</th>\n",
       "    </tr>\n",
       "    <tr>\n",
       "      <th>Title</th>\n",
       "      <th></th>\n",
       "      <th></th>\n",
       "      <th></th>\n",
       "      <th></th>\n",
       "      <th></th>\n",
       "      <th></th>\n",
       "      <th></th>\n",
       "    </tr>\n",
       "  </thead>\n",
       "  <tbody>\n",
       "    <tr>\n",
       "      <th>Master</th>\n",
       "      <td>414.975000</td>\n",
       "      <td>0.575000</td>\n",
       "      <td>2.625000</td>\n",
       "      <td>4.574167</td>\n",
       "      <td>2.300000</td>\n",
       "      <td>1.375000</td>\n",
       "      <td>34.703125</td>\n",
       "    </tr>\n",
       "    <tr>\n",
       "      <th>Miss</th>\n",
       "      <td>411.741935</td>\n",
       "      <td>0.704301</td>\n",
       "      <td>2.284946</td>\n",
       "      <td>21.860000</td>\n",
       "      <td>0.698925</td>\n",
       "      <td>0.537634</td>\n",
       "      <td>43.937188</td>\n",
       "    </tr>\n",
       "    <tr>\n",
       "      <th>Mr</th>\n",
       "      <td>455.880907</td>\n",
       "      <td>0.162571</td>\n",
       "      <td>2.381853</td>\n",
       "      <td>32.739609</td>\n",
       "      <td>0.293006</td>\n",
       "      <td>0.151229</td>\n",
       "      <td>24.939822</td>\n",
       "    </tr>\n",
       "    <tr>\n",
       "      <th>Mrs</th>\n",
       "      <td>456.393701</td>\n",
       "      <td>0.795276</td>\n",
       "      <td>1.984252</td>\n",
       "      <td>35.981818</td>\n",
       "      <td>0.692913</td>\n",
       "      <td>0.818898</td>\n",
       "      <td>45.420603</td>\n",
       "    </tr>\n",
       "    <tr>\n",
       "      <th>Other</th>\n",
       "      <td>564.444444</td>\n",
       "      <td>0.111111</td>\n",
       "      <td>1.666667</td>\n",
       "      <td>45.888889</td>\n",
       "      <td>0.111111</td>\n",
       "      <td>0.111111</td>\n",
       "      <td>19.102778</td>\n",
       "    </tr>\n",
       "  </tbody>\n",
       "</table>\n",
       "</div>"
      ],
      "text/plain": [
       "        PassengerId  Survived    Pclass        Age     SibSp     Parch  \\\n",
       "Title                                                                    \n",
       "Master   414.975000  0.575000  2.625000   4.574167  2.300000  1.375000   \n",
       "Miss     411.741935  0.704301  2.284946  21.860000  0.698925  0.537634   \n",
       "Mr       455.880907  0.162571  2.381853  32.739609  0.293006  0.151229   \n",
       "Mrs      456.393701  0.795276  1.984252  35.981818  0.692913  0.818898   \n",
       "Other    564.444444  0.111111  1.666667  45.888889  0.111111  0.111111   \n",
       "\n",
       "             Fare  \n",
       "Title              \n",
       "Master  34.703125  \n",
       "Miss    43.937188  \n",
       "Mr      24.939822  \n",
       "Mrs     45.420603  \n",
       "Other   19.102778  "
      ]
     },
     "execution_count": 14,
     "metadata": {},
     "output_type": "execute_result"
    }
   ],
   "source": [
    "df_train.groupby('Title').mean()"
   ]
  },
  {
   "cell_type": "code",
   "execution_count": 15,
   "id": "medium-timer",
   "metadata": {},
   "outputs": [],
   "source": [
    "tmp = df_train.groupby('Title').mean()\n",
    "for title in tmp.index:\n",
    "    df_train.loc[(df_train.Age.isnull()) & (df_train.Title == title),\n",
    "                 'Age'] = round(tmp.loc[title].Age)\n",
    "    df_test.loc[(df_test.Age.isnull()) & (df_test.Title == title),\n",
    "                'Age'] = round(tmp.loc[title].Age)"
   ]
  },
  {
   "cell_type": "markdown",
   "id": "indoor-tiger",
   "metadata": {},
   "source": [
    "## 3.2 Change Age (continuous to categorical)"
   ]
  },
  {
   "cell_type": "code",
   "execution_count": 16,
   "id": "balanced-waterproof",
   "metadata": {},
   "outputs": [],
   "source": [
    "df_train['Age_cat'] = 0\n",
    "df_test['Age_cat'] = 0"
   ]
  },
  {
   "cell_type": "code",
   "execution_count": 17,
   "id": "dramatic-netscape",
   "metadata": {},
   "outputs": [],
   "source": [
    "for i in range(8):\n",
    "    df_train.loc[(df_train.Age >= (i * 10)) & (df_train.Age < (i + 1) * 10),\n",
    "                 'Age_cat'] = i\n",
    "    df_test.loc[(df_test.Age >= (i * 10)) & (df_test.Age < (i + 1) * 10),\n",
    "                'Age_cat'] = i\n",
    "df_train.loc[df_train.Age >= 80, 'Age_cat'] = 7\n",
    "df_test.loc[df_test.Age >= 80, 'Age_cat'] = 7"
   ]
  },
  {
   "cell_type": "code",
   "execution_count": 18,
   "id": "opposite-watson",
   "metadata": {},
   "outputs": [],
   "source": [
    "df_train.drop(['Age'], axis=1, inplace=True)\n",
    "df_test.drop(['Age'], axis=1, inplace=True)"
   ]
  },
  {
   "cell_type": "markdown",
   "id": "handed-calibration",
   "metadata": {},
   "source": [
    "## 3.3 Change Title, Embarked, Sex (string to numerical)"
   ]
  },
  {
   "cell_type": "code",
   "execution_count": 19,
   "id": "written-moses",
   "metadata": {},
   "outputs": [],
   "source": [
    "# Title\n",
    "df_train['Title'] = df_train['Title'].map({\n",
    "    'Master': 0,\n",
    "    'Miss': 1,\n",
    "    'Mr': 2,\n",
    "    'Mrs': 3,\n",
    "    'Other': 4\n",
    "})\n",
    "\n",
    "df_test['Title'] = df_test['Title'].map({\n",
    "    'Master': 0,\n",
    "    'Miss': 1,\n",
    "    'Mr': 2,\n",
    "    'Mrs': 3,\n",
    "    'Other': 4\n",
    "})"
   ]
  },
  {
   "cell_type": "code",
   "execution_count": 20,
   "id": "charged-suicide",
   "metadata": {},
   "outputs": [
    {
     "data": {
      "text/plain": [
       "array(['S', 'C', 'Q'], dtype=object)"
      ]
     },
     "execution_count": 20,
     "metadata": {},
     "output_type": "execute_result"
    }
   ],
   "source": [
    "# Embarked\n",
    "df_train['Embarked'].unique()"
   ]
  },
  {
   "cell_type": "code",
   "execution_count": 21,
   "id": "egyptian-colonial",
   "metadata": {},
   "outputs": [],
   "source": [
    "df_train['Embarked'] = df_train['Embarked'].map({'C': 0, 'Q': 1, 'S': 2})\n",
    "df_test['Embarked'] = df_test['Embarked'].map({'C': 0, 'Q': 1, 'S': 2})"
   ]
  },
  {
   "cell_type": "code",
   "execution_count": 22,
   "id": "greater-skill",
   "metadata": {},
   "outputs": [],
   "source": [
    "# Sex\n",
    "df_train['Sex'] = df_train['Sex'].map({'female': 0, 'male': 1})\n",
    "df_test['Sex'] = df_test['Sex'].map({'female': 0, 'male': 1})"
   ]
  },
  {
   "cell_type": "markdown",
   "id": "alpine-click",
   "metadata": {},
   "source": [
    "## 3.4 Fare, Cabin, FamilySize"
   ]
  },
  {
   "cell_type": "code",
   "execution_count": 23,
   "id": "informative-ultimate",
   "metadata": {},
   "outputs": [],
   "source": [
    "# Cabin\n",
    "df_train.drop(['Cabin'], axis=1, inplace=True)\n",
    "df_test.drop(['Cabin'], axis=1, inplace=True)"
   ]
  },
  {
   "cell_type": "code",
   "execution_count": 24,
   "id": "delayed-banking",
   "metadata": {},
   "outputs": [],
   "source": [
    "# Fare\n",
    "df_train['Fare'] = df_train['Fare'].map(lambda i: np.log(i) if i > 0 else 0)\n",
    "df_test['Fare'] = df_test['Fare'].map(lambda i: np.log(i) if i > 0 else 0)\n",
    "\n",
    "df_test.loc[df_test['Fare'].isnull(), 'Fare'] = df_test['Fare'].mean()"
   ]
  },
  {
   "cell_type": "code",
   "execution_count": 25,
   "id": "valid-kernel",
   "metadata": {},
   "outputs": [],
   "source": [
    "# FamilySize\n",
    "df_train['FamilySize'] = df_train['SibSp'] + df_train['Parch'] + 1\n",
    "df_test['FamilySize'] = df_test['SibSp'] + df_test['Parch'] + 1"
   ]
  },
  {
   "cell_type": "markdown",
   "id": "weighted-muslim",
   "metadata": {},
   "source": [
    "## 3.5 One-hot encoding\n",
    "순서가 없는 카테고리형 변수"
   ]
  },
  {
   "cell_type": "code",
   "execution_count": 26,
   "id": "theoretical-asbestos",
   "metadata": {},
   "outputs": [],
   "source": [
    "df_train.drop(['Name', 'PassengerId', 'SibSp', 'Parch'], axis=1, inplace=True)\n",
    "df_test.drop(['Name', 'PassengerId', 'SibSp', 'Parch'], axis=1, inplace=True)"
   ]
  },
  {
   "cell_type": "code",
   "execution_count": 27,
   "id": "documented-strain",
   "metadata": {
    "scrolled": true
   },
   "outputs": [
    {
     "data": {
      "text/html": [
       "<div>\n",
       "<style scoped>\n",
       "    .dataframe tbody tr th:only-of-type {\n",
       "        vertical-align: middle;\n",
       "    }\n",
       "\n",
       "    .dataframe tbody tr th {\n",
       "        vertical-align: top;\n",
       "    }\n",
       "\n",
       "    .dataframe thead th {\n",
       "        text-align: right;\n",
       "    }\n",
       "</style>\n",
       "<table border=\"1\" class=\"dataframe\">\n",
       "  <thead>\n",
       "    <tr style=\"text-align: right;\">\n",
       "      <th></th>\n",
       "      <th>Survived</th>\n",
       "      <th>Pclass</th>\n",
       "      <th>Sex</th>\n",
       "      <th>Ticket</th>\n",
       "      <th>Fare</th>\n",
       "      <th>Embarked</th>\n",
       "      <th>Title</th>\n",
       "      <th>Age_cat</th>\n",
       "      <th>FamilySize</th>\n",
       "    </tr>\n",
       "  </thead>\n",
       "  <tbody>\n",
       "    <tr>\n",
       "      <th>0</th>\n",
       "      <td>0</td>\n",
       "      <td>3</td>\n",
       "      <td>1</td>\n",
       "      <td>A/5 21171</td>\n",
       "      <td>1.981001</td>\n",
       "      <td>2</td>\n",
       "      <td>2</td>\n",
       "      <td>2</td>\n",
       "      <td>2</td>\n",
       "    </tr>\n",
       "  </tbody>\n",
       "</table>\n",
       "</div>"
      ],
      "text/plain": [
       "   Survived  Pclass  Sex     Ticket      Fare  Embarked  Title  Age_cat  \\\n",
       "0         0       3    1  A/5 21171  1.981001         2      2        2   \n",
       "\n",
       "   FamilySize  \n",
       "0           2  "
      ]
     },
     "execution_count": 27,
     "metadata": {},
     "output_type": "execute_result"
    }
   ],
   "source": [
    "df_train.head(1)"
   ]
  },
  {
   "cell_type": "code",
   "execution_count": 28,
   "id": "heated-tobago",
   "metadata": {},
   "outputs": [],
   "source": [
    "# Title\n",
    "df_train = pd.get_dummies(df_train, columns=['Title'], prefix='Title')\n",
    "df_test = pd.get_dummies(df_test, columns=['Title'], prefix='Title')\n",
    "\n",
    "# Embarked\n",
    "df_train = pd.get_dummies(df_train, columns=['Embarked'], prefix='Embarked')\n",
    "df_test = pd.get_dummies(df_test, columns=['Embarked'], prefix='Embarked')"
   ]
  },
  {
   "cell_type": "markdown",
   "id": "embedded-danish",
   "metadata": {},
   "source": [
    "## 3.5.1 Ticket"
   ]
  },
  {
   "cell_type": "code",
   "execution_count": 29,
   "id": "under-flexibility",
   "metadata": {},
   "outputs": [],
   "source": [
    "# Ticket 있는 버전은 _ticket 추가함\n",
    "df_train_ticket = df_train\n",
    "df_test_ticket = df_test"
   ]
  },
  {
   "cell_type": "code",
   "execution_count": 30,
   "id": "roman-mentor",
   "metadata": {},
   "outputs": [],
   "source": [
    "df_train_ticket['TicketFirstNum'] = df_train_ticket['Ticket'].map(\n",
    "    lambda i: str(i)[0:1] if i.isdigit() else '0')\n",
    "df_test_ticket['TicketFirstNum'] = df_test_ticket['Ticket'].map(\n",
    "    lambda i: str(i)[0:1] if i.isdigit() else '0')"
   ]
  },
  {
   "cell_type": "code",
   "execution_count": 31,
   "id": "indie-forty",
   "metadata": {},
   "outputs": [],
   "source": [
    "df_train_ticket['Ticket'] = df_train_ticket['TicketFirstNum']\n",
    "df_test_ticket['Ticket'] = df_test_ticket['TicketFirstNum']\n",
    "\n",
    "df_train_ticket.drop(['TicketFirstNum'], axis=1, inplace=True)\n",
    "df_test_ticket.drop(['TicketFirstNum'], axis=1, inplace=True)"
   ]
  },
  {
   "cell_type": "code",
   "execution_count": 32,
   "id": "false-antenna",
   "metadata": {},
   "outputs": [],
   "source": [
    "df_train_ticket['Ticket'] = df_train_ticket['Ticket'].astype(int)\n",
    "df_test_ticket['Ticket'] = df_test_ticket['Ticket'].astype(int)"
   ]
  },
  {
   "cell_type": "code",
   "execution_count": 33,
   "id": "alternative-coordinator",
   "metadata": {},
   "outputs": [],
   "source": [
    "# Ticket 없는 버전이 기본\n",
    "# inplace 속성 없앰\n",
    "df_train = df_train.drop(['Ticket'], axis=1)\n",
    "df_test = df_test.drop(['Ticket'], axis=1)"
   ]
  },
  {
   "cell_type": "code",
   "execution_count": 34,
   "id": "friendly-allen",
   "metadata": {},
   "outputs": [],
   "source": [
    "# Ticket\n",
    "df_train_ticket = pd.get_dummies(df_train_ticket, columns=['Ticket'], prefix='Ticket')\n",
    "df_test_ticket = pd.get_dummies(df_test_ticket, columns=['Ticket'], prefix='Ticket')"
   ]
  },
  {
   "cell_type": "code",
   "execution_count": 35,
   "id": "thorough-istanbul",
   "metadata": {},
   "outputs": [],
   "source": [
    "# Ticket 의 경우 빈 값도 많아 이 방법을 사용했을 때, 열 개수가 일치하지 않는 문제점 발생\n",
    "difference = set(df_train_ticket.columns) - set(df_test_ticket.columns) - {'Survived'}"
   ]
  },
  {
   "cell_type": "code",
   "execution_count": 36,
   "id": "subjective-steps",
   "metadata": {},
   "outputs": [],
   "source": [
    "for col in difference:\n",
    "    df_test_ticket[col] = 0"
   ]
  },
  {
   "cell_type": "markdown",
   "id": "generic-stations",
   "metadata": {},
   "source": [
    "# 4. Building machine learning model and prediction"
   ]
  },
  {
   "cell_type": "code",
   "execution_count": 37,
   "id": "representative-hypothetical",
   "metadata": {},
   "outputs": [],
   "source": [
    "from sklearn.ensemble import RandomForestClassifier # random forest 를 이용한 classifier\n",
    "from sklearn import metrics # 모델의 평가를 위함\n",
    "from sklearn.model_selection import train_test_split # traning set을 쉽게 나눠주는 함수"
   ]
  },
  {
   "cell_type": "code",
   "execution_count": 38,
   "id": "deluxe-steam",
   "metadata": {},
   "outputs": [],
   "source": [
    "# 4.1. preparation\n",
    "# split dataset int train, valid, test\n",
    "\n",
    "# training set 에서 target label 을 분리\n",
    "X_train = df_train.drop('Survived', axis=1).values\n",
    "target_label = df_train['Survived'].values\n",
    "X_test = df_test.values\n",
    "\n",
    "# train set 으로부터 valid set 을 따로 남겨둠\n",
    "X_tr, X_vld, y_tr, y_vld = train_test_split(X_train,\n",
    "                                            target_label,\n",
    "                                            test_size=0.3,\n",
    "                                            random_state=2018)"
   ]
  },
  {
   "cell_type": "code",
   "execution_count": 39,
   "id": "perfect-jewelry",
   "metadata": {},
   "outputs": [],
   "source": [
    "# 4.2. model genration and prediction\n",
    "model = RandomForestClassifier()\n",
    "model.fit(X_tr, y_tr)\n",
    "prediction = model.predict(X_vld)"
   ]
  },
  {
   "cell_type": "code",
   "execution_count": 40,
   "id": "premier-belly",
   "metadata": {},
   "outputs": [
    {
     "name": "stdout",
     "output_type": "stream",
     "text": [
      "총 268명 중 83.21% 정확도로 생존을 맞춤\n"
     ]
    }
   ],
   "source": [
    "# accuracy (이 때 valid set 이용)\n",
    "print('총 {}명 중 {:.2f}% 정확도로 생존을 맞춤'.format(\n",
    "    y_vld.shape[0], 100 * metrics.accuracy_score(prediction, y_vld)))"
   ]
  },
  {
   "cell_type": "code",
   "execution_count": 41,
   "id": "backed-activity",
   "metadata": {},
   "outputs": [],
   "source": [
    "# 4.3. feature importance\n",
    "\n",
    "from pandas import Series"
   ]
  },
  {
   "cell_type": "code",
   "execution_count": 42,
   "id": "leading-advancement",
   "metadata": {},
   "outputs": [],
   "source": [
    "feature_importance = model.feature_importances_\n",
    "Series_feat_imp = Series(feature_importance, index=df_test.columns)"
   ]
  },
  {
   "cell_type": "code",
   "execution_count": 43,
   "id": "banner-vienna",
   "metadata": {
    "scrolled": false
   },
   "outputs": [
    {
     "data": {
      "image/png": "[encoded data removed]",
      "text/plain": [
       "<Figure size 576x576 with 1 Axes>"
      ]
     },
     "metadata": {
      "needs_background": "light"
     },
     "output_type": "display_data"
    }
   ],
   "source": [
    "# Ticket 고려하지 않은 경우\n",
    "plt.figure(figsize=(8, 8))\n",
    "Series_feat_imp.sort_values(ascending=True).plot.barh()\n",
    "plt.xlabel('Feature importance')\n",
    "plt.ylabel('Feature')\n",
    "plt.show()"
   ]
  },
  {
   "cell_type": "code",
   "execution_count": 44,
   "id": "guided-alexander",
   "metadata": {},
   "outputs": [],
   "source": [
    "# 4.4. prediction on test set\n",
    "\n",
    "prediction = model.predict(X_test)\n",
    "df_test['Survived'] = prediction"
   ]
  },
  {
   "cell_type": "code",
   "execution_count": 59,
   "id": "widespread-scott",
   "metadata": {},
   "outputs": [
    {
     "name": "stdout",
     "output_type": "stream",
     "text": [
      "총 268명 중 84.33% 정확도로 생존을 맞춤\n"
     ]
    }
   ],
   "source": [
    "# Ticket 고려한 경우\n",
    "\n",
    "X_train = df_train_ticket.drop('Survived', axis=1).values\n",
    "target_label = df_train_ticket['Survived'].values\n",
    "X_test = df_test_ticket.values\n",
    "\n",
    "X_tr, X_vld, y_tr, y_vld = train_test_split(X_train,\n",
    "                                            target_label,\n",
    "                                            test_size=0.3,\n",
    "                                            random_state=2018)\n",
    "\n",
    "model = RandomForestClassifier()\n",
    "model.fit(X_tr, y_tr)\n",
    "prediction = model.predict(X_vld)\n",
    "\n",
    "print('총 {}명 중 {:.2f}% 정확도로 생존을 맞춤'.format(\n",
    "    y_vld.shape[0], 100 * metrics.accuracy_score(prediction, y_vld)))"
   ]
  },
  {
   "cell_type": "code",
   "execution_count": 60,
   "id": "underlying-scheme",
   "metadata": {},
   "outputs": [
    {
     "data": {
      "image/png": "[encoded data removed]",
      "text/plain": [
       "<Figure size 576x576 with 1 Axes>"
      ]
     },
     "metadata": {
      "needs_background": "light"
     },
     "output_type": "display_data"
    }
   ],
   "source": [
    "feature_importance = model.feature_importances_\n",
    "Series_feat_imp = Series(feature_importance, index=df_test_ticket.columns)\n",
    "\n",
    "plt.figure(figsize=(8, 8))\n",
    "Series_feat_imp.sort_values(ascending=True).plot.barh()\n",
    "plt.xlabel('Feature importance')\n",
    "plt.ylabel('Feature')\n",
    "plt.show()"
   ]
  }
 ],
 "metadata": {
  "kernelspec": {
   "display_name": "Python 3",
   "language": "python",
   "name": "python3"
  },
  "language_info": {
   "codemirror_mode": {
    "name": "ipython",
    "version": 3
   },
   "file_extension": ".py",
   "mimetype": "text/x-python",
   "name": "python",
   "nbconvert_exporter": "python",
   "pygments_lexer": "ipython3",
   "version": "3.8.8"
  }
 },
 "nbformat": 4,
 "nbformat_minor": 5
}
